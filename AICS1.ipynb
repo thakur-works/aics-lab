{
  "nbformat": 4,
  "nbformat_minor": 0,
  "metadata": {
    "colab": {
      "provenance": [],
      "collapsed_sections": [],
      "authorship_tag": "ABX9TyNKU82KLoraOoWZOIQo3W69",
      "include_colab_link": true
    },
    "kernelspec": {
      "name": "python3",
      "display_name": "Python 3"
    },
    "language_info": {
      "name": "python"
    }
  },
  "cells": [
    {
      "cell_type": "markdown",
      "metadata": {
        "id": "view-in-github",
        "colab_type": "text"
      },
      "source": [
        "<a href=\"https://colab.research.google.com/github/thakur-works/aics-lab/blob/main/AICS1.ipynb\" target=\"_parent\"><img src=\"https://colab.research.google.com/assets/colab-badge.svg\" alt=\"Open In Colab\"/></a>"
      ]
    },
    {
      "cell_type": "code",
      "execution_count": null,
      "metadata": {
        "id": "ABdviXk-7eNX"
      },
      "outputs": [],
      "source": [
        "dic={1:\"This is value 1\",2:\"This is value 2\",3:\"This is value 3\"}"
      ]
    },
    {
      "cell_type": "code",
      "source": [
        "print(dic)"
      ],
      "metadata": {
        "colab": {
          "base_uri": "https://localhost:8080/"
        },
        "id": "naQIKfx_8G0R",
        "outputId": "ab3cbda8-9cc7-4242-eaef-2e8e40fa27b2"
      },
      "execution_count": null,
      "outputs": [
        {
          "output_type": "stream",
          "name": "stdout",
          "text": [
            "{1: 'This is value 1', 2: 'This is value 2', 3: 'This is value 3'}\n"
          ]
        }
      ]
    },
    {
      "cell_type": "code",
      "source": [
        "dic[1]"
      ],
      "metadata": {
        "colab": {
          "base_uri": "https://localhost:8080/",
          "height": 35
        },
        "id": "jXvVCn-a8JDR",
        "outputId": "5fbc2473-4df2-416a-939a-ccb58f27419d"
      },
      "execution_count": null,
      "outputs": [
        {
          "output_type": "execute_result",
          "data": {
            "text/plain": [
              "'This is value 1'"
            ],
            "application/vnd.google.colaboratory.intrinsic+json": {
              "type": "string"
            }
          },
          "metadata": {},
          "execution_count": 3
        }
      ]
    },
    {
      "cell_type": "code",
      "source": [
        "lis=[1,2,3,454,5,6,677,67,5,43,\"this is also in a list\"]"
      ],
      "metadata": {
        "id": "RUbGA3hM8OVQ"
      },
      "execution_count": null,
      "outputs": []
    },
    {
      "cell_type": "code",
      "source": [
        "print(lis)"
      ],
      "metadata": {
        "colab": {
          "base_uri": "https://localhost:8080/"
        },
        "id": "SZfs_Sc08mqI",
        "outputId": "a13b25de-6117-49cc-9061-8cc04fa9c66c"
      },
      "execution_count": null,
      "outputs": [
        {
          "output_type": "stream",
          "name": "stdout",
          "text": [
            "[1, 2, 3, 454, 5, 6, 677, 67, 5, 43, 'this is also in a list']\n"
          ]
        }
      ]
    },
    {
      "cell_type": "code",
      "source": [
        "toupl=(111,111,111,43,243,65667,232,213)"
      ],
      "metadata": {
        "id": "J3gXwkTP8pVw"
      },
      "execution_count": null,
      "outputs": []
    },
    {
      "cell_type": "code",
      "source": [
        "print(toupl)"
      ],
      "metadata": {
        "colab": {
          "base_uri": "https://localhost:8080/"
        },
        "id": "bI0RRPen9QX2",
        "outputId": "494eb28e-b159-4929-f2fc-7a4a5e74c929"
      },
      "execution_count": null,
      "outputs": [
        {
          "output_type": "stream",
          "name": "stdout",
          "text": [
            "(111, 111, 111, 43, 243, 65667, 232, 213)\n"
          ]
        }
      ]
    },
    {
      "cell_type": "code",
      "source": [],
      "metadata": {
        "id": "v_-jUdqX9SVa"
      },
      "execution_count": null,
      "outputs": []
    }
  ]
}