{
  "nbformat": 4,
  "nbformat_minor": 0,
  "metadata": {
    "colab": {
      "provenance": [],
      "authorship_tag": "ABX9TyNXCGO/FYofKUw9I+/RBmgM",
      "include_colab_link": true
    },
    "kernelspec": {
      "name": "python3",
      "display_name": "Python 3"
    },
    "language_info": {
      "name": "python"
    }
  },
  "cells": [
    {
      "cell_type": "markdown",
      "metadata": {
        "id": "view-in-github",
        "colab_type": "text"
      },
      "source": [
        "<a href=\"https://colab.research.google.com/github/thakur-works/aics-lab/blob/main/MultipelLinearregression.ipynb\" target=\"_parent\"><img src=\"https://colab.research.google.com/assets/colab-badge.svg\" alt=\"Open In Colab\"/></a>"
      ]
    },
    {
      "cell_type": "code",
      "source": [
        "import pandas as pd \n",
        "import numpy as np\n",
        "import matplotlib.pyplot as plt\n",
        "from sklearn import linear_model"
      ],
      "metadata": {
        "id": "WJAnMoiVd8oj"
      },
      "execution_count": 1,
      "outputs": []
    },
    {
      "cell_type": "code",
      "source": [
        "df=pd.read_csv('50_Startups.csv')\n",
        "#df"
      ],
      "metadata": {
        "id": "uOzM_6l8E1DT"
      },
      "execution_count": 24,
      "outputs": []
    },
    {
      "cell_type": "code",
      "source": [
        "x = df.drop('Profit',axis=1)"
      ],
      "metadata": {
        "id": "1zwttwD2fPSa"
      },
      "execution_count": 26,
      "outputs": []
    },
    {
      "cell_type": "code",
      "source": [
        "y = df['Profit']\n",
        "\n",
        "df['Profit'].plot(kind = 'line')\n",
        "plt.show()"
      ],
      "metadata": {
        "colab": {
          "base_uri": "https://localhost:8080/",
          "height": 268
        },
        "id": "3WjwWOcDfR9K",
        "outputId": "f0c827e4-867c-4bbd-b447-32fe140a5c3d"
      },
      "execution_count": 27,
      "outputs": [
        {
          "output_type": "display_data",
          "data": {
            "text/plain": [
              "<Figure size 432x288 with 1 Axes>"
            ],
            "image/png": "[encoded data removed]"
          },
          "metadata": {
            "needs_background": "light"
          }
        }
      ]
    },
    {
      "cell_type": "code",
      "source": [
        "# handle categorical variable\n",
        "states=pd.get_dummies(x,drop_first=True)\n",
        "# dropping extra column\n",
        "x= x.drop('State',axis=1)\n",
        "print(x)\n",
        "# concatation of independent variables and new cateorical variable.\n",
        "x=pd.concat([x,states],axis=1)\n",
        "print(x)\n",
        "print(x.shape)"
      ],
      "metadata": {
        "colab": {
          "base_uri": "https://localhost:8080/"
        },
        "id": "27b_q1jreQh1",
        "outputId": "71a1e028-5c7c-4746-d340-ca09c4a4e6da"
      },
      "execution_count": 28,
      "outputs": [
        {
          "output_type": "stream",
          "name": "stdout",
          "text": [
            "    R&D Spend  Administration  Marketing Spend\n",
            "0   165349.20       136897.80        471784.10\n",
            "1   162597.70       151377.59        443898.53\n",
            "2   153441.51       101145.55        407934.54\n",
            "3   144372.41       118671.85        383199.62\n",
            "4   142107.34        91391.77        366168.42\n",
            "5   131876.90        99814.71        362861.36\n",
            "6   134615.46       147198.87        127716.82\n",
            "7   130298.13       145530.06        323876.68\n",
            "8   120542.52       148718.95        311613.29\n",
            "9   123334.88       108679.17        304981.62\n",
            "10  101913.08       110594.11        229160.95\n",
            "11  100671.96        91790.61        249744.55\n",
            "12   93863.75       127320.38        249839.44\n",
            "13   91992.39       135495.07        252664.93\n",
            "14  119943.24       156547.42        256512.92\n",
            "15  114523.61       122616.84        261776.23\n",
            "16   78013.11       121597.55        264346.06\n",
            "17   94657.16       145077.58        282574.31\n",
            "18   91749.16       114175.79        294919.57\n",
            "19   86419.70       153514.11             0.00\n",
            "20   76253.86       113867.30        298664.47\n",
            "21   78389.47       153773.43        299737.29\n",
            "22   73994.56       122782.75        303319.26\n",
            "23   67532.53       105751.03        304768.73\n",
            "24   77044.01        99281.34        140574.81\n",
            "25   64664.71       139553.16        137962.62\n",
            "26   75328.87       144135.98        134050.07\n",
            "27   72107.60       127864.55        353183.81\n",
            "28   66051.52       182645.56        118148.20\n",
            "29   65605.48       153032.06        107138.38\n",
            "30   61994.48       115641.28         91131.24\n",
            "31   61136.38       152701.92         88218.23\n",
            "32   63408.86       129219.61         46085.25\n",
            "33   55493.95       103057.49        214634.81\n",
            "34   46426.07       157693.92        210797.67\n",
            "35   46014.02        85047.44        205517.64\n",
            "36   28663.76       127056.21        201126.82\n",
            "37   44069.95        51283.14        197029.42\n",
            "38   20229.59        65947.93        185265.10\n",
            "39   38558.51        82982.09        174999.30\n",
            "40   28754.33       118546.05        172795.67\n",
            "41   27892.92        84710.77        164470.71\n",
            "42   23640.93        96189.63        148001.11\n",
            "43   15505.73       127382.30         35534.17\n",
            "44   22177.74       154806.14         28334.72\n",
            "45    1000.23       124153.04          1903.93\n",
            "46    1315.46       115816.21        297114.46\n",
            "47       0.00       135426.92             0.00\n",
            "48     542.05        51743.15             0.00\n",
            "49       0.00       116983.80         45173.06\n",
            "    R&D Spend  Administration  Marketing Spend  R&D Spend  Administration  \\\n",
            "0   165349.20       136897.80        471784.10  165349.20       136897.80   \n",
            "1   162597.70       151377.59        443898.53  162597.70       151377.59   \n",
            "2   153441.51       101145.55        407934.54  153441.51       101145.55   \n",
            "3   144372.41       118671.85        383199.62  144372.41       118671.85   \n",
            "4   142107.34        91391.77        366168.42  142107.34        91391.77   \n",
            "5   131876.90        99814.71        362861.36  131876.90        99814.71   \n",
            "6   134615.46       147198.87        127716.82  134615.46       147198.87   \n",
            "7   130298.13       145530.06        323876.68  130298.13       145530.06   \n",
            "8   120542.52       148718.95        311613.29  120542.52       148718.95   \n",
            "9   123334.88       108679.17        304981.62  123334.88       108679.17   \n",
            "10  101913.08       110594.11        229160.95  101913.08       110594.11   \n",
            "11  100671.96        91790.61        249744.55  100671.96        91790.61   \n",
            "12   93863.75       127320.38        249839.44   93863.75       127320.38   \n",
            "13   91992.39       135495.07        252664.93   91992.39       135495.07   \n",
            "14  119943.24       156547.42        256512.92  119943.24       156547.42   \n",
            "15  114523.61       122616.84        261776.23  114523.61       122616.84   \n",
            "16   78013.11       121597.55        264346.06   78013.11       121597.55   \n",
            "17   94657.16       145077.58        282574.31   94657.16       145077.58   \n",
            "18   91749.16       114175.79        294919.57   91749.16       114175.79   \n",
            "19   86419.70       153514.11             0.00   86419.70       153514.11   \n",
            "20   76253.86       113867.30        298664.47   76253.86       113867.30   \n",
            "21   78389.47       153773.43        299737.29   78389.47       153773.43   \n",
            "22   73994.56       122782.75        303319.26   73994.56       122782.75   \n",
            "23   67532.53       105751.03        304768.73   67532.53       105751.03   \n",
            "24   77044.01        99281.34        140574.81   77044.01        99281.34   \n",
            "25   64664.71       139553.16        137962.62   64664.71       139553.16   \n",
            "26   75328.87       144135.98        134050.07   75328.87       144135.98   \n",
            "27   72107.60       127864.55        353183.81   72107.60       127864.55   \n",
            "28   66051.52       182645.56        118148.20   66051.52       182645.56   \n",
            "29   65605.48       153032.06        107138.38   65605.48       153032.06   \n",
            "30   61994.48       115641.28         91131.24   61994.48       115641.28   \n",
            "31   61136.38       152701.92         88218.23   61136.38       152701.92   \n",
            "32   63408.86       129219.61         46085.25   63408.86       129219.61   \n",
            "33   55493.95       103057.49        214634.81   55493.95       103057.49   \n",
            "34   46426.07       157693.92        210797.67   46426.07       157693.92   \n",
            "35   46014.02        85047.44        205517.64   46014.02        85047.44   \n",
            "36   28663.76       127056.21        201126.82   28663.76       127056.21   \n",
            "37   44069.95        51283.14        197029.42   44069.95        51283.14   \n",
            "38   20229.59        65947.93        185265.10   20229.59        65947.93   \n",
            "39   38558.51        82982.09        174999.30   38558.51        82982.09   \n",
            "40   28754.33       118546.05        172795.67   28754.33       118546.05   \n",
            "41   27892.92        84710.77        164470.71   27892.92        84710.77   \n",
            "42   23640.93        96189.63        148001.11   23640.93        96189.63   \n",
            "43   15505.73       127382.30         35534.17   15505.73       127382.30   \n",
            "44   22177.74       154806.14         28334.72   22177.74       154806.14   \n",
            "45    1000.23       124153.04          1903.93    1000.23       124153.04   \n",
            "46    1315.46       115816.21        297114.46    1315.46       115816.21   \n",
            "47       0.00       135426.92             0.00       0.00       135426.92   \n",
            "48     542.05        51743.15             0.00     542.05        51743.15   \n",
            "49       0.00       116983.80         45173.06       0.00       116983.80   \n",
            "\n",
            "    Marketing Spend  State_Florida  State_New York  \n",
            "0         471784.10              0               1  \n",
            "1         443898.53              0               0  \n",
            "2         407934.54              1               0  \n",
            "3         383199.62              0               1  \n",
            "4         366168.42              1               0  \n",
            "5         362861.36              0               1  \n",
            "6         127716.82              0               0  \n",
            "7         323876.68              1               0  \n",
            "8         311613.29              0               1  \n",
            "9         304981.62              0               0  \n",
            "10        229160.95              1               0  \n",
            "11        249744.55              0               0  \n",
            "12        249839.44              1               0  \n",
            "13        252664.93              0               0  \n",
            "14        256512.92              1               0  \n",
            "15        261776.23              0               1  \n",
            "16        264346.06              0               0  \n",
            "17        282574.31              0               1  \n",
            "18        294919.57              1               0  \n",
            "19             0.00              0               1  \n",
            "20        298664.47              0               0  \n",
            "21        299737.29              0               1  \n",
            "22        303319.26              1               0  \n",
            "23        304768.73              1               0  \n",
            "24        140574.81              0               1  \n",
            "25        137962.62              0               0  \n",
            "26        134050.07              1               0  \n",
            "27        353183.81              0               1  \n",
            "28        118148.20              1               0  \n",
            "29        107138.38              0               1  \n",
            "30         91131.24              1               0  \n",
            "31         88218.23              0               1  \n",
            "32         46085.25              0               0  \n",
            "33        214634.81              1               0  \n",
            "34        210797.67              0               0  \n",
            "35        205517.64              0               1  \n",
            "36        201126.82              1               0  \n",
            "37        197029.42              0               0  \n",
            "38        185265.10              0               1  \n",
            "39        174999.30              0               0  \n",
            "40        172795.67              0               0  \n",
            "41        164470.71              1               0  \n",
            "42        148001.11              0               0  \n",
            "43         35534.17              0               1  \n",
            "44         28334.72              0               0  \n",
            "45          1903.93              0               1  \n",
            "46        297114.46              1               0  \n",
            "47             0.00              0               0  \n",
            "48             0.00              0               1  \n",
            "49         45173.06              0               0  \n",
            "(50, 8)\n"
          ]
        }
      ]
    },
    {
      "cell_type": "code",
      "source": [
        "from sklearn.model_selection import train_test_split\n",
        "# splitting the data\n",
        "x_train, x_test, y_train, y_test = train_test_split(x, y, test_size = 0.2, random_state = 42)\n",
        "print(x_train.shape)\n"
      ],
      "metadata": {
        "colab": {
          "base_uri": "https://localhost:8080/"
        },
        "id": "F5RoPbqse2Ww",
        "outputId": "b1fc535f-e2b7-4783-92b3-2aa8c5f0af99"
      },
      "execution_count": 29,
      "outputs": [
        {
          "output_type": "stream",
          "name": "stdout",
          "text": [
            "(40, 8)\n"
          ]
        }
      ]
    },
    {
      "cell_type": "code",
      "source": [
        "# importing module\n",
        "from sklearn.linear_model import LinearRegression\n",
        "# creating an object of LinearRegression class\n",
        "LR = LinearRegression()\n",
        "# fitting the training data\n",
        "LR.fit(x_train,y_train)"
      ],
      "metadata": {
        "colab": {
          "base_uri": "https://localhost:8080/"
        },
        "id": "BO4snZpjgmNS",
        "outputId": "8a3dbefd-fb66-4564-9c03-e409653d2197"
      },
      "execution_count": 30,
      "outputs": [
        {
          "output_type": "execute_result",
          "data": {
            "text/plain": [
              "LinearRegression()"
            ]
          },
          "metadata": {},
          "execution_count": 30
        }
      ]
    },
    {
      "cell_type": "code",
      "source": [
        "y_prediction =  LR.predict(x_test)\n",
        "y_prediction"
      ],
      "metadata": {
        "colab": {
          "base_uri": "https://localhost:8080/"
        },
        "id": "7tnDmMpBgrEw",
        "outputId": "6e7b8457-7847-485a-988f-a3abe0d11ae7"
      },
      "execution_count": 31,
      "outputs": [
        {
          "output_type": "execute_result",
          "data": {
            "text/plain": [
              "array([126362.87908253,  84608.45383639,  99677.49425151,  46357.46068582,\n",
              "       128750.48288501,  50912.41741892, 109741.35032701, 100643.24281646,\n",
              "        97599.27574597, 113097.42524434])"
            ]
          },
          "metadata": {},
          "execution_count": 31
        }
      ]
    },
    {
      "cell_type": "code",
      "source": [
        "# importing r2_score module\n",
        "from sklearn.metrics import r2_score\n",
        "from sklearn.metrics import mean_squared_error\n",
        "# predicting the accuracy score\n",
        "score=r2_score(y_test,y_prediction)\n",
        "print('r2 socre is ',score)\n",
        "print('mean_sqrd_error is==',mean_squared_error(y_test,y_prediction))\n",
        "print('root_mean_squared error of is==',np.sqrt(mean_squared_error(y_test,y_prediction)))"
      ],
      "metadata": {
        "colab": {
          "base_uri": "https://localhost:8080/"
        },
        "id": "m_H1jW_OhjW9",
        "outputId": "0893cba6-a51d-4052-80f7-fd9d1206cdb5"
      },
      "execution_count": 32,
      "outputs": [
        {
          "output_type": "stream",
          "name": "stdout",
          "text": [
            "r2 socre is  0.8987266414324238\n",
            "mean_sqrd_error is== 82010363.04465732\n",
            "root_mean_squared error of is== 9055.957323478138\n"
          ]
        }
      ]
    },
    {
      "cell_type": "code",
      "source": [],
      "metadata": {
        "id": "Yp4bNomMiGMB"
      },
      "execution_count": null,
      "outputs": []
    }
  ]
}